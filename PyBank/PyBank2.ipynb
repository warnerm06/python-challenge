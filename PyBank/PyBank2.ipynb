{
 "cells": [
  {
   "cell_type": "code",
   "execution_count": 9,
   "metadata": {},
   "outputs": [
    {
     "name": "stdout",
     "output_type": "stream",
     "text": [
      "Financial Analysis\n",
      "------------------------\n",
      "Total Months: 41\n",
      "Total Revenue: $18971412\n",
      "AVG Monthly Change in Revenue: $-6594.12\n",
      "Maximum Increase in Revenue: 16-Feb (1837235)\n",
      "Maximum Decrease in Revenue: 14-Aug (-1779747)\n"
     ]
    }
   ],
   "source": [
    "#dependencies\n",
    "\n",
    "import csv\n",
    "import pprint\n",
    "rev_change={}\n",
    "\n",
    "# read csv\n",
    "with open('budget_data.csv', mode='r', newline='') as csv_file: #opens csv file\n",
    "    csv_reader = csv.DictReader(csv_file) # create reader object\n",
    "    total_rev =0 #set initial revenue to 0\n",
    "    months=0 #set number of months to 0\n",
    "    change_profit=0 #set change in profit to 0\n",
    "    prev_line= 1154293 #Set to this because the first row is skipped. Maybe find a cleaner way to do this....\n",
    "    \n",
    "    #print(csv_reader.fieldnames) #prints field names\n",
    "\n",
    "    for row in csv_reader: # total net amount of months\n",
    "        months +=1\n",
    "        total_rev += int(row['Revenue'])\n",
    "        \n",
    "        #line_num = data.index(line) # gives line number as index value\n",
    "        change_profit += int(row['Revenue']) - int(prev_line)\n",
    "        \n",
    "        if row['Date'] not in rev_change.keys(): # if Date is not in dict of rev_change, create entry\n",
    "            rev_change[row['Date']] =0\n",
    "            \n",
    "        if row['Date'] in rev_change:# if Date exists then add change in revenue\n",
    "            rev_change[row['Date']] = int(row['Revenue'])- int(prev_line)\n",
    "            \n",
    "        prev_line = int(row['Revenue']) #sets prev_line valuefor the next row. MUST be at the end of for loop \n",
    "    \n",
    "    print('Financial Analysis')\n",
    "    print('------------------------')\n",
    "    maxInc='Maximum Increase in Revenue: ' + max(rev_change, key =rev_change.get) + ' (' + str(max(rev_change.values())) + ')' #max rev\n",
    "    maxDec='Maximum Decrease in Revenue: ' + min(rev_change, key =rev_change.get) + ' (' + str(min(rev_change.values())) + ')' #min rev\n",
    "    print('Total Months: ' + str(months))\n",
    "    print('Total Revenue: $' + str(total_rev))\n",
    "    print('AVG Monthly Change in Revenue: $' + str(round(change_profit/(months),2)))\n",
    "    print(maxInc)\n",
    "    print(maxDec)\n",
    "    \n",
    "with open('Results.txt','w') as txt_file: #create a new txt file and print results\n",
    "    print(f'Total Months: ' + str(months), file=txt_file)\n",
    "    print(f'Total Revenue: $' + str(total_rev), file=txt_file)\n",
    "    print(f'AVG Monthly Change in Revenue: $' + str(round(change_profit/(months),2)), file=txt_file)\n",
    "    print(str(maxInc), file=txt_file)\n",
    "    print(str(maxDec), file=txt_file)\n",
    "        "
   ]
  },
  {
   "cell_type": "code",
   "execution_count": null,
   "metadata": {},
   "outputs": [],
   "source": []
  }
 ],
 "metadata": {
  "kernelspec": {
   "display_name": "Python 3",
   "language": "python",
   "name": "python3"
  },
  "language_info": {
   "codemirror_mode": {
    "name": "ipython",
    "version": 3
   },
   "file_extension": ".py",
   "mimetype": "text/x-python",
   "name": "python",
   "nbconvert_exporter": "python",
   "pygments_lexer": "ipython3",
   "version": "3.6.5"
  }
 },
 "nbformat": 4,
 "nbformat_minor": 2
}
