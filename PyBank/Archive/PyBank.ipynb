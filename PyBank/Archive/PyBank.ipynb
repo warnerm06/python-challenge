{
 "cells": [
  {
   "cell_type": "code",
   "execution_count": 2,
   "metadata": {},
   "outputs": [
    {
     "name": "stdout",
     "output_type": "stream",
     "text": [
      "Financial Analysis\n",
      "------------------------\n",
      "Total Months: 41\n",
      "Total Revenue: $18971412\n",
      "AVG Monthly Change in Revenue: $-6594.12\n",
      "OrderedDict([('Date', '13-Dec'), ('Revenue', '977084')])\n",
      "newDict {'Date': '13-Dec', 'Revenue': '977084'}\n",
      "13-Dec\n"
     ]
    }
   ],
   "source": [
    "import os \n",
    "import csv\n",
    "import pprint\n",
    "\n",
    "# read csv\n",
    "with open('budget_data.csv', mode='r', newline='') as csv_file:\n",
    "    csv_reader = csv.DictReader(csv_file)\n",
    "    data = [row for row in csv_reader] #allows for mulitple for loops. Otherwise you can only use a for loop once.\n",
    "    total_rev =0\n",
    "    months=0\n",
    "    change_profit=0\n",
    "    prev_line= 1154293 #Set to this because the first row is skipped. \n",
    "\n",
    "    #print(csv_reader.fieldnames) #prints field names\n",
    "    print('Financial Analysis')\n",
    "    print('------------------------')\n",
    "    for line in data: # total net amount of months\n",
    "        months +=1\n",
    "    print('Total Months: ' + str(months))\n",
    "\n",
    "    for line in data: # total net amount of revenue over the entire period\n",
    "        total_rev += int(line['Revenue'])\n",
    "    print('Total Revenue: $' + str(total_rev))\n",
    "\n",
    "    for line in data[1:]: # total average change in revenue from month to month\n",
    "        #line_num = data.index(line) # gives line number as index value\n",
    "        change_profit += int(line['Revenue']) - int(prev_line)\n",
    "        prev_line = int(line['Revenue'])\n",
    "   \n",
    "    print('AVG Monthly Change in Revenue: $' + str(round(change_profit/len(data),2)))\n",
    " \n",
    "    #index, value =max(data, key=lambda item: item['Revenue'])\n",
    "    #print('Greatest Increase in Revenue: $' + str(max(data['Revenue'] for data in data))) #prints max value\n",
    "\n",
    "    print(max(data, key=lambda x:x['Revenue']))\n",
    "    \n",
    "    newDict=dict(max(data, key=lambda x:x['Revenue']))\n",
    "    print('newDict '+str(newDict))\n",
    "    \n",
    "    print(newDict.get('Date'))\n",
    "    \n",
    "\n",
    "    \n",
    "    \n",
    "    #pprint.pprint(data)\n"
   ]
  },
  {
   "cell_type": "code",
   "execution_count": 81,
   "metadata": {},
   "outputs": [
    {
     "data": {
      "text/plain": [
       "OrderedDict([('Date', '13-Dec'), ('Revenue', '977084')])"
      ]
     },
     "execution_count": 81,
     "metadata": {},
     "output_type": "execute_result"
    }
   ],
   "source": [
    "max(data, key=lambda d: d['Revenue'])\n",
    "pprint.pprint(data)"
   ]
  },
  {
   "cell_type": "code",
   "execution_count": 3,
   "metadata": {},
   "outputs": [
    {
     "data": {
      "text/plain": [
       "41"
      ]
     },
     "execution_count": 3,
     "metadata": {},
     "output_type": "execute_result"
    }
   ],
   "source": [
    "len(data)"
   ]
  },
  {
   "cell_type": "code",
   "execution_count": null,
   "metadata": {},
   "outputs": [],
   "source": []
  }
 ],
 "metadata": {
  "kernelspec": {
   "display_name": "Python 3",
   "language": "python",
   "name": "python3"
  },
  "language_info": {
   "codemirror_mode": {
    "name": "ipython",
    "version": 3
   },
   "file_extension": ".py",
   "mimetype": "text/x-python",
   "name": "python",
   "nbconvert_exporter": "python",
   "pygments_lexer": "ipython3",
   "version": "3.6.5"
  }
 },
 "nbformat": 4,
 "nbformat_minor": 2
}
