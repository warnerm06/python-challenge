{
 "cells": [
  {
   "cell_type": "code",
   "execution_count": 2,
   "metadata": {},
   "outputs": [
    {
     "name": "stdout",
     "output_type": "stream",
     "text": [
      "Election Results\n",
      "---------------------\n",
      "Total Votes: 3521001\n",
      "---------------------\n",
      "Khan: 63.0% (2218231)\n",
      "Correy: 20.0% (704200)\n",
      "Li: 14.0% (492940)\n",
      "O'Tooley: 3.0% (105630)\n",
      "---------------------\n",
      "Winner: Khan\n"
     ]
    }
   ],
   "source": [
    "#dependencies\n",
    "import csv \n",
    "import os \n",
    "import pprint\n",
    "\n",
    "file_path= 'election_data.csv'\n",
    "\n",
    "with open(file_path, mode='r', newline ='') as csvfile: #opens csv file\n",
    "    csv_reader=csv.DictReader(csvfile) # reads csv file\n",
    "    count =0 #initial count of votes\n",
    "    candidates={} # dict of candidats. Initially it is empty but will be filled from csv\n",
    "    \n",
    "    for row in csv_reader:\n",
    "        count +=1 #tallies total vote count\n",
    "        if (row['Candidate']) not in candidates.keys(): # if candidate is not in dict of candidates create entry\n",
    "            candidates[row['Candidate']]=0 #creates entry and sets default value (votes) to 0\n",
    "                 \n",
    "        if (row['Candidate']) in candidates:# if candidate exists then add a vote\n",
    "            candidates[row['Candidate']] +=1   \n",
    "\n",
    "    #print results\n",
    "    \n",
    "    print('Election Results')\n",
    "    print('---------------------')\n",
    "    print('Total Votes: ' + str(count)) #total count of entries in csv\n",
    "    print('---------------------')\n",
    "        \n",
    "    for k, v in candidates.items(): #print each candidate and votes in dict\n",
    "        print(k + ': '+ str('{:.1%}'.format(v/count)) + ' ('+str(v) +')')\n",
    "    print('---------------------')\n",
    "    maxvotes='Winner: ' + max(candidates, key =candidates.get) #max votes in candidates dict\n",
    "    print(maxvotes)\n",
    "    \n",
    "    # text file output\n",
    "with open('Electrion_Results.txt','w') as txt_file: #create a new txt file and pint results\n",
    "    print(f'Election Results', file=txt_file)\n",
    "    print(f'---------------------', file=txt_file)\n",
    "    print(f'Total Votes: {count}', file=txt_file)\n",
    "    print(f'---------------------', file=txt_file)\n",
    "    for k, v in candidates.items():\n",
    "        print(k + ': '+ str('{:.1%}'.format(v/count)) + ' ('+str(v) +')', file=txt_file)\n",
    "    print(f'---------------------', file=txt_file)\n",
    "    print(f'{maxvotes}', file=txt_file)\n",
    "    \n",
    "    \n",
    "    "
   ]
  },
  {
   "cell_type": "code",
   "execution_count": null,
   "metadata": {},
   "outputs": [],
   "source": []
  }
 ],
 "metadata": {
  "kernelspec": {
   "display_name": "Python 3",
   "language": "python",
   "name": "python3"
  },
  "language_info": {
   "codemirror_mode": {
    "name": "ipython",
    "version": 3
   },
   "file_extension": ".py",
   "mimetype": "text/x-python",
   "name": "python",
   "nbconvert_exporter": "python",
   "pygments_lexer": "ipython3",
   "version": "3.6.5"
  }
 },
 "nbformat": 4,
 "nbformat_minor": 2
}
